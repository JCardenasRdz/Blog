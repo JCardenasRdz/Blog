{
 "cells": [
  {
   "cell_type": "markdown",
   "metadata": {},
   "source": [
    "## Description"
   ]
  },
  {
   "cell_type": "markdown",
   "metadata": {},
   "source": [
    "Non-linear curve fitting is a fundamental part of the quantitative analysis performed in multiple scientific disciplines.\n",
    "The main idea is that we know (or assume) the model that describes an observed data.\n",
    "For example, we could observe a signal like the following:\n",
    "\n",
    "![noisy plot](noisy_plot.png)\n",
    "\n",
    "We could assume that the data is described by a number of different models, but an exponential decay is reasonable option. Thus if we assumed our dat is described by the following model:\n",
    "\n",
    "$$ f(Mz,T1,xdata) = Mz * \\exp(-xdata/T1) $$\n",
    "\n",
    "The question now becomes how to determine the values of 'Mz' and 'T1' knowing the observed data and the assumes model. This is what we do:\n",
    "\n",
    "> Find the Mz and T1 that minimize the sum of squares of the residuals beween the observed data and the assumed model. This method is called least-squares curve fitting.\n",
    "\n",
    "In other words, we \"calculate\" the signal at multiple Mz and T1 and find the one that minimizes the objetive function described above:\n",
    "\n",
    "$$ \\sum( [f(Mz,T1) - Ydata]^2) $$"
   ]
  },
  {
   "cell_type": "markdown",
   "metadata": {},
   "source": [
    "## How do we do this in Python?"
   ]
  },
  {
   "cell_type": "code",
   "execution_count": null,
   "metadata": {
    "collapsed": true
   },
   "outputs": [],
   "source": []
  }
 ],
 "metadata": {
  "anaconda-cloud": {},
  "kernelspec": {
   "display_name": "Python [conda root]",
   "language": "python",
   "name": "conda-root-py"
  },
  "language_info": {
   "codemirror_mode": {
    "name": "ipython",
    "version": 3
   },
   "file_extension": ".py",
   "mimetype": "text/x-python",
   "name": "python",
   "nbconvert_exporter": "python",
   "pygments_lexer": "ipython3",
   "version": "3.5.2"
  }
 },
 "nbformat": 4,
 "nbformat_minor": 2
}
